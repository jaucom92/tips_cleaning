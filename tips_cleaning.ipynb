{
 "cells": [
  {
   "cell_type": "markdown",
   "metadata": {},
   "source": [
    "## 1. Descripción del dataset. \n",
    "\n",
    "El dataset a analizar consiste en una recolección de las \"propinas\" generadas por un restaurante. En este podemos encontrar todo un conjunto de información multivariante: la cantidad de propina dejada por un cliente, el género del cliente, si este fumaba o no, etc.\n",
    "\n",
    "El dataset ha sido descargado del siguiente enlace (https://github.com/mwaskom/seaborn-data/blob/master/tips.csv) y ha sido levemente modificado para poder realizar un proceso de limpieza mínimo."
   ]
  },
  {
   "cell_type": "code",
   "execution_count": 1,
   "metadata": {},
   "outputs": [
    {
     "data": {
      "text/html": [
       "<div>\n",
       "<style scoped>\n",
       "    .dataframe tbody tr th:only-of-type {\n",
       "        vertical-align: middle;\n",
       "    }\n",
       "\n",
       "    .dataframe tbody tr th {\n",
       "        vertical-align: top;\n",
       "    }\n",
       "\n",
       "    .dataframe thead th {\n",
       "        text-align: right;\n",
       "    }\n",
       "</style>\n",
       "<table border=\"1\" class=\"dataframe\">\n",
       "  <thead>\n",
       "    <tr style=\"text-align: right;\">\n",
       "      <th></th>\n",
       "      <th>total_bill</th>\n",
       "      <th>tip</th>\n",
       "      <th>sex</th>\n",
       "      <th>smoker</th>\n",
       "      <th>day</th>\n",
       "      <th>time</th>\n",
       "      <th>size</th>\n",
       "    </tr>\n",
       "  </thead>\n",
       "  <tbody>\n",
       "    <tr>\n",
       "      <th>0</th>\n",
       "      <td>$16.99</td>\n",
       "      <td>NaN</td>\n",
       "      <td>Female</td>\n",
       "      <td>No</td>\n",
       "      <td>Sun</td>\n",
       "      <td>Dinner</td>\n",
       "      <td>2</td>\n",
       "    </tr>\n",
       "    <tr>\n",
       "      <th>1</th>\n",
       "      <td>$10.34</td>\n",
       "      <td>$1.66</td>\n",
       "      <td>Male</td>\n",
       "      <td>No</td>\n",
       "      <td>Sun</td>\n",
       "      <td>Dinner</td>\n",
       "      <td>3</td>\n",
       "    </tr>\n",
       "    <tr>\n",
       "      <th>2</th>\n",
       "      <td>$21.01</td>\n",
       "      <td>$3.5</td>\n",
       "      <td>Male</td>\n",
       "      <td>No</td>\n",
       "      <td>Sun</td>\n",
       "      <td>Dinner</td>\n",
       "      <td>3</td>\n",
       "    </tr>\n",
       "    <tr>\n",
       "      <th>3</th>\n",
       "      <td>$23.68</td>\n",
       "      <td>NaN</td>\n",
       "      <td>Male</td>\n",
       "      <td>No</td>\n",
       "      <td>Sun</td>\n",
       "      <td>Dinner</td>\n",
       "      <td>2</td>\n",
       "    </tr>\n",
       "    <tr>\n",
       "      <th>4</th>\n",
       "      <td>$24.59</td>\n",
       "      <td>$3.61</td>\n",
       "      <td>Female</td>\n",
       "      <td>No</td>\n",
       "      <td>Sun</td>\n",
       "      <td>Dinner</td>\n",
       "      <td>4</td>\n",
       "    </tr>\n",
       "  </tbody>\n",
       "</table>\n",
       "</div>"
      ],
      "text/plain": [
       "  total_bill    tip     sex smoker  day    time  size\n",
       "0     $16.99    NaN  Female     No  Sun  Dinner     2\n",
       "1     $10.34  $1.66    Male     No  Sun  Dinner     3\n",
       "2     $21.01   $3.5    Male     No  Sun  Dinner     3\n",
       "3     $23.68    NaN    Male     No  Sun  Dinner     2\n",
       "4     $24.59  $3.61  Female     No  Sun  Dinner     4"
      ]
     },
     "execution_count": 1,
     "metadata": {},
     "output_type": "execute_result"
    }
   ],
   "source": [
    "import pandas as pd\n",
    "import numpy as np\n",
    "import seaborn as sns\n",
    "import matplotlib.pyplot as plt\n",
    "import re\n",
    "from scipy.stats import shapiro, iqr, mannwhitneyu, kruskal\n",
    "from sklearn.tree import DecisionTreeRegressor\n",
    "from sklearn.linear_model import LinearRegression\n",
    "from sklearn.model_selection import cross_val_score\n",
    "\n",
    "sns.set()\n",
    "df = sns.load_dataset('tips')\n",
    "\n",
    "def add_na(row):\n",
    "    \n",
    "    row['total_bill'] = '$' + str(row.total_bill)\n",
    "    row['tip'] = '$' + str(row.tip)\n",
    "                                \n",
    "    if np.random.randint(0, 100) < 3:\n",
    "        row['total_bill'] = np.nan\n",
    "    if np.random.randint(0, 100) < 3:\n",
    "        row['tip'] = np.nan\n",
    "        \n",
    "    return row\n",
    "\n",
    "df = df.apply(add_na, axis=1)\n",
    "\n",
    "tips = df\n",
    "del(df)\n",
    "tips.head()\n"
   ]
  },
  {
   "cell_type": "markdown",
   "metadata": {},
   "source": [
    "## 2. Integración y selección de los datos de interés a analizar. \n",
    "\n",
    "Vamos a analizar la relación que existe entre la cantidad de propina dejada por cada usuario (`tip`) y las siguientes variables: `total_bill` (importe total de la comida), `sex` (genero) y `day` (día de la semana); con los dos siguientes objetivos: \n",
    "\n",
    "* Exponer las diferencias (si existen) entre los grupos y la cantidad de propina.\n",
    "* Predecir la propina (target) dada las anteriores variables (features).\n",
    "\n",
    "Para ello, vamos a recodificar la variable `sex` (0=Female, 1=Male), distinguir la variable `day`(entre 'fin de semana'=0 y 'entre semana'=1) y agrupar la variable `total_bill`. Como podemos observar la variable `day` solo tiene ocurrencias en los días jueves, viernes, sábado y domingo."
   ]
  },
  {
   "cell_type": "code",
   "execution_count": 2,
   "metadata": {},
   "outputs": [
    {
     "data": {
      "text/html": [
       "<div>\n",
       "<style scoped>\n",
       "    .dataframe tbody tr th:only-of-type {\n",
       "        vertical-align: middle;\n",
       "    }\n",
       "\n",
       "    .dataframe tbody tr th {\n",
       "        vertical-align: top;\n",
       "    }\n",
       "\n",
       "    .dataframe thead th {\n",
       "        text-align: right;\n",
       "    }\n",
       "</style>\n",
       "<table border=\"1\" class=\"dataframe\">\n",
       "  <thead>\n",
       "    <tr style=\"text-align: right;\">\n",
       "      <th></th>\n",
       "      <th>tip</th>\n",
       "      <th>total_bill</th>\n",
       "      <th>sex</th>\n",
       "      <th>day</th>\n",
       "    </tr>\n",
       "  </thead>\n",
       "  <tbody>\n",
       "    <tr>\n",
       "      <th>0</th>\n",
       "      <td>NaN</td>\n",
       "      <td>$16.99</td>\n",
       "      <td>0</td>\n",
       "      <td>0</td>\n",
       "    </tr>\n",
       "    <tr>\n",
       "      <th>1</th>\n",
       "      <td>$1.66</td>\n",
       "      <td>$10.34</td>\n",
       "      <td>1</td>\n",
       "      <td>0</td>\n",
       "    </tr>\n",
       "    <tr>\n",
       "      <th>2</th>\n",
       "      <td>$3.5</td>\n",
       "      <td>$21.01</td>\n",
       "      <td>1</td>\n",
       "      <td>0</td>\n",
       "    </tr>\n",
       "    <tr>\n",
       "      <th>3</th>\n",
       "      <td>NaN</td>\n",
       "      <td>$23.68</td>\n",
       "      <td>1</td>\n",
       "      <td>0</td>\n",
       "    </tr>\n",
       "    <tr>\n",
       "      <th>4</th>\n",
       "      <td>$3.61</td>\n",
       "      <td>$24.59</td>\n",
       "      <td>0</td>\n",
       "      <td>0</td>\n",
       "    </tr>\n",
       "  </tbody>\n",
       "</table>\n",
       "</div>"
      ],
      "text/plain": [
       "     tip total_bill  sex  day\n",
       "0    NaN     $16.99    0    0\n",
       "1  $1.66     $10.34    1    0\n",
       "2   $3.5     $21.01    1    0\n",
       "3    NaN     $23.68    1    0\n",
       "4  $3.61     $24.59    0    0"
      ]
     },
     "execution_count": 2,
     "metadata": {},
     "output_type": "execute_result"
    }
   ],
   "source": [
    "def recode_gender(gender):\n",
    "    \n",
    "    if gender == 'Female':\n",
    "        return 0\n",
    "\n",
    "    elif gender == 'Male':\n",
    "        return 1\n",
    "\n",
    "    else:\n",
    "        return np.nan\n",
    "    \n",
    "    \n",
    "def recode_day(day):\n",
    "    \n",
    "    if day in ['Sat', 'Sun']:\n",
    "        return 0\n",
    "\n",
    "    elif day in ['Thur', 'Fri']:\n",
    "        return 1\n",
    "\n",
    "    else:\n",
    "        return np.nan   \n",
    "    \n",
    "    \n",
    "def recode_bill(bill, lim=1000):\n",
    "    \n",
    "    b = np.round(bill)\n",
    "    \n",
    "    if b <= 10:\n",
    "        return 0\n",
    "\n",
    "    elif b <= 20:\n",
    "        return 1\n",
    "    \n",
    "    elif b <= lim:\n",
    "        return 2\n",
    "\n",
    "    else:\n",
    "        return np.nan  \n",
    "    \n",
    "\n",
    "tips['sex'] = tips.sex.apply(recode_gender)\n",
    "tips['day'] = tips.day.apply(recode_day)\n",
    "\n",
    "tips = tips[['tip', 'total_bill', 'sex', 'day']]\n",
    "tips.head()"
   ]
  },
  {
   "cell_type": "markdown",
   "metadata": {},
   "source": [
    "## 3. Limpieza de los datos.\n",
    "\n",
    "A continuación, vamos a interrogarnos sobre la presencia de valores perdidos o extremos. Como veremos en la siguiente tabla, el dataset contiene 244 filas y presenta algunos valores vacíos en las dos primeras columnas. Además, podemos observar que ambas son de tipo objeto (carácter) debido a la presencia del símbolo `$`.\n",
    "\n",
    "Por lo tanto, vamos a eliminar aquellas filas con valores nulos así como corregir los valores numéricos (podemos eliminarlas debido a la naturaleza del análisis - son imputaciones propias).\n",
    "\n",
    "Respecto a los valores extremos, podemos prever la existencia de estos en la variable `tips` y `total_bill` (podemos suponer que habrá algunos clientes con cuentas elevadas o \"tips elevados\"); debido a la no normalidad de ambas variables - *hecho observable en la sección 4.2* - vamos a utilizar la distancia interquartil para identificar estos valores (observaciones superiores o inferiores a 3 * IQR); para, acto seguido, reemplazarlos por una medida de centralidad como la mediana debido a la distribución de las variables."
   ]
  },
  {
   "cell_type": "markdown",
   "metadata": {},
   "source": [
    "### 3.1. Valores perdidos."
   ]
  },
  {
   "cell_type": "code",
   "execution_count": 3,
   "metadata": {},
   "outputs": [
    {
     "name": "stdout",
     "output_type": "stream",
     "text": [
      "<class 'pandas.core.frame.DataFrame'>\n",
      "RangeIndex: 244 entries, 0 to 243\n",
      "Data columns (total 4 columns):\n",
      "tip           233 non-null object\n",
      "total_bill    240 non-null object\n",
      "sex           244 non-null int64\n",
      "day           244 non-null int64\n",
      "dtypes: int64(2), object(2)\n",
      "memory usage: 7.8+ KB\n"
     ]
    }
   ],
   "source": [
    "tips.info()"
   ]
  },
  {
   "cell_type": "code",
   "execution_count": 4,
   "metadata": {},
   "outputs": [
    {
     "name": "stdout",
     "output_type": "stream",
     "text": [
      "<class 'pandas.core.frame.DataFrame'>\n",
      "Int64Index: 229 entries, 1 to 243\n",
      "Data columns (total 5 columns):\n",
      "tip               229 non-null float64\n",
      "total_bill        229 non-null float64\n",
      "sex               229 non-null int64\n",
      "day               229 non-null int64\n",
      "total_bill_rec    229 non-null int64\n",
      "dtypes: float64(2), int64(3)\n",
      "memory usage: 10.7 KB\n"
     ]
    }
   ],
   "source": [
    "tips.dropna(inplace=True)\n",
    "\n",
    "tips['total_bill'] = tips.total_bill.apply(lambda x: re.findall('\\d+\\.\\d+', x)[0])\n",
    "tips['tip'] = tips.tip.apply(lambda x: re.findall('\\d+\\.\\d+', x)[0])\n",
    "\n",
    "tips['total_bill'] = pd.to_numeric(tips.total_bill, errors='coerce')\n",
    "tips['tip'] = pd.to_numeric(tips.tip, errors='coerce')\n",
    "\n",
    "tips['total_bill_rec'] = tips['total_bill'].apply(recode_bill)\n",
    "\n",
    "tips.info()"
   ]
  },
  {
   "cell_type": "markdown",
   "metadata": {},
   "source": [
    "### 3.2. Valores extremos."
   ]
  },
  {
   "cell_type": "code",
   "execution_count": 5,
   "metadata": {},
   "outputs": [
    {
     "data": {
      "image/png": "[encoded data removed]",
      "text/plain": [
       "<Figure size 432x288 with 1 Axes>"
      ]
     },
     "metadata": {},
     "output_type": "display_data"
    }
   ],
   "source": [
    "tips.boxplot(column=['total_bill', 'tip'])\n",
    "plt.title('Boxplot of Total Bill & Tip')\n",
    "plt.ylabel('Counts')\n",
    "plt.show()"
   ]
  },
  {
   "cell_type": "code",
   "execution_count": 6,
   "metadata": {},
   "outputs": [
    {
     "data": {
      "image/png": "[encoded data removed]",
      "text/plain": [
       "<Figure size 432x288 with 1 Axes>"
      ]
     },
     "metadata": {},
     "output_type": "display_data"
    }
   ],
   "source": [
    "def outliers_to_na(series):\n",
    "    s = series.copy()\n",
    "    sup, inf = np.percentile(s, 75) + 3 * iqr(s), np.percentile(s, 25) - 3 * iqr(s)\n",
    "    s.loc[np.logical_or(s > sup, s < inf)] = s.loc[~np.logical_or(s > sup, s < inf)].median()\n",
    "    return s\n",
    "\n",
    "tips['tip'] = outliers_to_na(tips.tip)\n",
    "tips['total_bill'] = outliers_to_na(tips.total_bill)\n",
    "\n",
    "tips.boxplot(column=['total_bill', 'tip'])\n",
    "plt.title('Boxplot of Total Bill & Tip')\n",
    "plt.ylabel('Counts')\n",
    "plt.show()"
   ]
  },
  {
   "cell_type": "markdown",
   "metadata": {},
   "source": [
    "## 4. Análisis de los datos. \n",
    "\n",
    "En los siguientes gráficos podemos observar que ambas variables (`total_bill`, `tip`) parecen no tener una distribución normal. Aplicaremos el Test de Shapiro–Wilk para poder afirmar o descartar esta hipótesis."
   ]
  },
  {
   "cell_type": "markdown",
   "metadata": {},
   "source": [
    "## 4.1. Comprobación de la normalidad y homogeneidad de la varianza."
   ]
  },
  {
   "cell_type": "code",
   "execution_count": 7,
   "metadata": {
    "scrolled": true
   },
   "outputs": [
    {
     "data": {
      "image/png": "[encoded data removed]",
      "text/plain": [
       "<Figure size 432x288 with 2 Axes>"
      ]
     },
     "metadata": {},
     "output_type": "display_data"
    }
   ],
   "source": [
    "plt.subplot(2, 1, 1)\n",
    "plt.hist(tips.total_bill, facecolor='r', density=True)\n",
    "plt.title('Histogram of Total Bill')\n",
    "plt.grid(True)\n",
    "\n",
    "plt.subplot(2, 1, 2)\n",
    "plt.hist(tips.tip, density=True)\n",
    "plt.title('Histogram of Tips')\n",
    "\n",
    "plt.grid(True)\n",
    "plt.tight_layout()\n",
    "plt.show()"
   ]
  },
  {
   "cell_type": "code",
   "execution_count": 8,
   "metadata": {},
   "outputs": [
    {
     "name": "stdout",
     "output_type": "stream",
     "text": [
      "Los resultados de los test son 2.0889583118854915e-10 y 1.1967028257231505e-08, por lo tanto, ambos test son no significativos y ambas distribuciones no-normales.\n"
     ]
    }
   ],
   "source": [
    "sha_total_bill = shapiro(tips.total_bill)\n",
    "sha_tips = shapiro(tips.tip)\n",
    "print(f'Los resultados de los test son {sha_total_bill[1]} y {sha_tips[1]}, por lo tanto, ambos test son no significativos y ambas distribuciones no-normales.')"
   ]
  },
  {
   "cell_type": "markdown",
   "metadata": {},
   "source": [
    "## 4.2. Aplicación de pruebas estadísticas para comparar los grupos de datos. "
   ]
  },
  {
   "cell_type": "markdown",
   "metadata": {},
   "source": [
    "Respecto a las diferencias entre la cantidad de propina dejada por los diferentes grupos; aplicaremos el test de Mann-Whitney debido a dos factores: \n",
    "* 1) La no normalidad \n",
    "* 2) La desigualdad en el número de instancias para ambos grupos de interés."
   ]
  },
  {
   "cell_type": "code",
   "execution_count": 9,
   "metadata": {},
   "outputs": [
    {
     "data": {
      "image/png": "[encoded data removed]",
      "text/plain": [
       "<Figure size 432x288 with 1 Axes>"
      ]
     },
     "metadata": {},
     "output_type": "display_data"
    }
   ],
   "source": [
    "sns.violinplot(x='sex', y='tip', data=tips)\n",
    "plt.xticks(np.arange(2), ['Female', 'Male'])\n",
    "plt.show()"
   ]
  },
  {
   "cell_type": "markdown",
   "metadata": {},
   "source": [
    "Como podemos observar en el grafico anterior no parece haber una diferencia entre hombres y mujeres. Hecho que constataremos con el test estadístico pertinente."
   ]
  },
  {
   "cell_type": "code",
   "execution_count": 10,
   "metadata": {},
   "outputs": [
    {
     "data": {
      "image/png": "[encoded data removed]",
      "text/plain": [
       "<Figure size 432x288 with 1 Axes>"
      ]
     },
     "metadata": {},
     "output_type": "display_data"
    }
   ],
   "source": [
    "sns.violinplot(x='day', y='tip', data=tips)\n",
    "plt.xticks(np.arange(2), ['Weekday', 'Weekend'])\n",
    "plt.show()"
   ]
  },
  {
   "cell_type": "markdown",
   "metadata": {},
   "source": [
    "Como podemos observar en el grafico anterior parece haber una pequeña diferencia entre las propinas durante el fin de semana o la semana. Hecho que constataremos con el test estadístico pertinente."
   ]
  },
  {
   "cell_type": "code",
   "execution_count": 11,
   "metadata": {},
   "outputs": [
    {
     "data": {
      "image/png": "[encoded data removed]",
      "text/plain": [
       "<Figure size 432x288 with 1 Axes>"
      ]
     },
     "metadata": {},
     "output_type": "display_data"
    }
   ],
   "source": [
    "sns.violinplot(x='total_bill_rec', y='tip', data=tips)\n",
    "plt.xticks(np.arange(3), ['-10$', '10-20$', '+20$'])\n",
    "plt.show()"
   ]
  },
  {
   "cell_type": "markdown",
   "metadata": {},
   "source": [
    "Como podemos observar en el grafico anterior, esta parece la diferencia más notable de aquellas testeadas; dándose la diferencia mayor entre los grupos 'menos de 10$' y 'más de 20'. Como hemos expuesto en los casos anteriores, es necesario realizar un test estadístico para contrastar la hipótesis."
   ]
  },
  {
   "cell_type": "code",
   "execution_count": 12,
   "metadata": {},
   "outputs": [
    {
     "name": "stdout",
     "output_type": "stream",
     "text": [
      "La prueba del test estadístico respecto al genero es 0.9082242874909331. Por lo tanto, no hay diferencias entre ambos grupos\n"
     ]
    }
   ],
   "source": [
    "sexm = mannwhitneyu(tips.loc[tips.sex == 0, 'tip'], tips.loc[tips.sex == 1, 'tip'], alternative='two-sided')[1]\n",
    "\n",
    "print(f'La prueba del test estadístico respecto al genero es {sexm}. Por lo tanto, no hay diferencias entre ambos grupos')"
   ]
  },
  {
   "cell_type": "code",
   "execution_count": 13,
   "metadata": {},
   "outputs": [
    {
     "name": "stdout",
     "output_type": "stream",
     "text": [
      "La prueba del test estadístico respecto a la temporalidad es 0.12394590204948451. Por lo tanto, no hay diferencias entre ambos grupos. Aun así parece que con una muestra mayor podriamos conseguir diferenciar ambos grupos (aunque esta diferencia fuera menor).\n"
     ]
    }
   ],
   "source": [
    "daym = mannwhitneyu(tips.loc[tips.day == 0, 'tip'], tips.loc[tips.day == 1, 'tip'], alternative='two-sided')[1]\n",
    "\n",
    "print(f'La prueba del test estadístico respecto a la temporalidad es {daym}. Por lo tanto, no hay diferencias entre ambos grupos. Aun así parece que con una muestra mayor podriamos conseguir diferenciar ambos grupos (aunque esta diferencia fuera menor).')"
   ]
  },
  {
   "cell_type": "code",
   "execution_count": 14,
   "metadata": {},
   "outputs": [
    {
     "name": "stdout",
     "output_type": "stream",
     "text": [
      "La prueba del test estadístico respecto al importe total es 1.0668518874261511e-17. Por lo tanto, hay diferencias entre los diferentes grupos. Como hemos podido observar en el gráfico la diferencia es entre los dos grupos mas polarizados.\n"
     ]
    }
   ],
   "source": [
    "totalm = kruskal(tips.loc[tips.total_bill_rec == 0, 'tip'],\n",
    "        tips.loc[tips.total_bill_rec == 1, 'tip'],\n",
    "        tips.loc[tips.total_bill_rec == 2, 'tip']       \n",
    ")[1]\n",
    "\n",
    "print(f'La prueba del test estadístico respecto al importe total es {totalm}. Por lo tanto, hay diferencias entre los diferentes grupos. Como hemos podido observar en el gráfico la diferencia es entre los dos grupos mas polarizados.')"
   ]
  },
  {
   "cell_type": "markdown",
   "metadata": {},
   "source": [
    "## 4.3. Aplicación de algoritmos de Machine Learning para predecir la variable independiente"
   ]
  },
  {
   "cell_type": "markdown",
   "metadata": {},
   "source": [
    "Respecto a la relación que se establece entre las diferentes variables y la variable de intéres(`tip`), después de realizar el análisis exploratio y test de hipotesis, podemos preever que el rendimiento del modelo que obtendremos será pobre ya que la única variable que parece tener cierto impacto es `total_bill`. Hecho observable en los siguientes dos modelos: \n",
    "\n",
    "* Un regression linear con 'cross-validation'.\n",
    "* Un arbol de decisión con 'cross-validation'.\n",
    "\n",
    "La metrica mostrada es el coeficiente de determinación (R^2)"
   ]
  },
  {
   "cell_type": "code",
   "execution_count": 15,
   "metadata": {},
   "outputs": [
    {
     "data": {
      "text/plain": [
       "0.2672839540694973"
      ]
     },
     "execution_count": 15,
     "metadata": {},
     "output_type": "execute_result"
    }
   ],
   "source": [
    "X = tips.drop(columns=['tip', 'total_bill_rec']).to_numpy()\n",
    "y = tips.tip.to_numpy()\n",
    "\n",
    "reg = LinearRegression()\n",
    "reg.fit(X, y)\n",
    "reg.score(X, y)\n",
    "\n",
    "cross_val_score(LinearRegression(), X, y, cv=10).mean()"
   ]
  },
  {
   "cell_type": "code",
   "execution_count": 16,
   "metadata": {},
   "outputs": [
    {
     "data": {
      "text/plain": [
       "-0.5523328180615511"
      ]
     },
     "execution_count": 16,
     "metadata": {},
     "output_type": "execute_result"
    }
   ],
   "source": [
    "cross_val_score(DecisionTreeRegressor(), X, y, cv=10).mean()"
   ]
  },
  {
   "cell_type": "markdown",
   "metadata": {},
   "source": [
    "## 5. Resolución del problema."
   ]
  },
  {
   "cell_type": "markdown",
   "metadata": {},
   "source": [
    "Como hemos podido observar a lo largo del documento parece que las variables escogidas no tienen un impacto significativo para explicar ambos objetivos propuestos. Una de las propuestas de mejoras en el futuro es explorar con otras variables o añadir efectos de interacción en el modelo."
   ]
  }
 ],
 "metadata": {
  "kernelspec": {
   "display_name": "Python 3",
   "language": "python",
   "name": "python3"
  },
  "language_info": {
   "codemirror_mode": {
    "name": "ipython",
    "version": 3
   },
   "file_extension": ".py",
   "mimetype": "text/x-python",
   "name": "python",
   "nbconvert_exporter": "python",
   "pygments_lexer": "ipython3",
   "version": "3.7.5"
  }
 },
 "nbformat": 4,
 "nbformat_minor": 2
}
